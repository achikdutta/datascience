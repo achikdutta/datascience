{
 "cells": [
  {
   "cell_type": "markdown",
   "metadata": {},
   "source": [
    "<center><font size=\"5\" color=\"#219dcd\"><b>NYC Parking Tickets: An Exploratory Analysis</b> </font> </center> "
   ]
  },
  {
   "cell_type": "markdown",
   "metadata": {},
   "source": [
    "## Problem Statement"
   ]
  },
  {
   "cell_type": "markdown",
   "metadata": {},
   "source": [
    "New York City is a thriving metropolis. Just like most other metros its size, one of the biggest problems its citizens face \n",
    "is parking. The classic combination of a huge number of cars and cramped geography leads to a huge number of parking \n",
    "tickets.\n",
    "In an attempt to scientifically analyse this phenomenon, the NYC Police Department has collected data for parking \n",
    "tickets. Of these, the data files for multiple years are publicly available on Kaggle. We will try and perform \n",
    "some exploratory analysis on a part of this data. Spark will allow us to analyse the full files at high speeds \n",
    "as opposed to taking a series of random samples that will approximate the population. For the scope of this analysis, \n",
    "we will analyse the parking tickets over the year 2017.\n",
    "\n",
    "The broad goal of any analysis of this type is to have better parking and fewer tickets.\n",
    "\n",
    "The purpose of this case study is to conduct an exploratory data analysis that will help to understand the data. "
   ]
  },
  {
   "cell_type": "markdown",
   "metadata": {},
   "source": [
    "## 1. General and Preprocessing Steps"
   ]
  },
  {
   "cell_type": "code",
   "execution_count": 89,
   "metadata": {},
   "outputs": [],
   "source": [
    "## ********  Let's create a spark session first  ********  | Start\n",
    "from pyspark.sql import SparkSession\n",
    "spark = SparkSession.builder.appName(\"NYC Taxi Parking\").getOrCreate()\n",
    "## ********  Let's create a spark session first  ********  | End"
   ]
  },
  {
   "cell_type": "code",
   "execution_count": 90,
   "metadata": {},
   "outputs": [
    {
     "data": {
      "text/plain": [
       "DataFrame[Summons Number: bigint, Plate ID: string, Registration State: string, Issue Date: timestamp, Violation Code: int, Vehicle Body Type: string, Vehicle Make: string, Violation Precinct: int, Issuer Precinct: int, Violation Time: string]"
      ]
     },
     "execution_count": 90,
     "metadata": {},
     "output_type": "execute_result"
    }
   ],
   "source": [
    "## ******** Load the file and cache the data  ******** | Start\n",
    "nyc_taxi = spark.read.format(\"csv\").option(\"header\", \"true\").option(\"inferSchema\", \"true\")\\\n",
    "                             .load(\"/common_folder/nyc_parking/Parking_Violations_Issued_-_Fiscal_Year_2017.csv\")\n",
    "nyc_taxi.cache()\n",
    "## ******** Load the file and cache the data  ******** | End"
   ]
  },
  {
   "cell_type": "markdown",
   "metadata": {},
   "source": [
    "## 2. Initial Data Checks"
   ]
  },
  {
   "cell_type": "code",
   "execution_count": 91,
   "metadata": {},
   "outputs": [
    {
     "name": "stdout",
     "output_type": "stream",
     "text": [
      "+--------------+--------+------------------+-------------------+--------------+-----------------+------------+------------------+---------------+--------------+\n",
      "|Summons Number|Plate ID|Registration State|         Issue Date|Violation Code|Vehicle Body Type|Vehicle Make|Violation Precinct|Issuer Precinct|Violation Time|\n",
      "+--------------+--------+------------------+-------------------+--------------+-----------------+------------+------------------+---------------+--------------+\n",
      "|    5092469481| GZH7067|                NY|2016-07-10 00:00:00|             7|             SUBN|       TOYOT|                 0|              0|         0143A|\n",
      "|    5092451658| GZH7067|                NY|2016-07-08 00:00:00|             7|             SUBN|       TOYOT|                 0|              0|         0400P|\n",
      "|    4006265037| FZX9232|                NY|2016-08-23 00:00:00|             5|             SUBN|        FORD|                 0|              0|         0233P|\n",
      "|    8478629828| 66623ME|                NY|2017-06-14 00:00:00|            47|             REFG|       MITSU|                14|             14|         1120A|\n",
      "|    7868300310| 37033JV|                NY|2016-11-21 00:00:00|            69|             DELV|       INTER|                13|             13|         0555P|\n",
      "+--------------+--------+------------------+-------------------+--------------+-----------------+------------+------------------+---------------+--------------+\n",
      "only showing top 5 rows\n",
      "\n"
     ]
    }
   ],
   "source": [
    "## ******** Initial data check  ******** | Start\n",
    "nyc_taxi.show(5)\n",
    "## ******** Initial data check  ******** | End"
   ]
  },
  {
   "cell_type": "code",
   "execution_count": 92,
   "metadata": {},
   "outputs": [
    {
     "data": {
      "text/plain": [
       "10803028"
      ]
     },
     "execution_count": 92,
     "metadata": {},
     "output_type": "execute_result"
    }
   ],
   "source": [
    "## ******** Check the number of records  ******** |Start\n",
    "nyc_taxi.count()\n",
    "## ******** Check the number of records  ******** |End"
   ]
  },
  {
   "cell_type": "code",
   "execution_count": 93,
   "metadata": {},
   "outputs": [
    {
     "data": {
      "text/plain": [
       "['Summons Number',\n",
       " 'Plate ID',\n",
       " 'Registration State',\n",
       " 'Issue Date',\n",
       " 'Violation Code',\n",
       " 'Vehicle Body Type',\n",
       " 'Vehicle Make',\n",
       " 'Violation Precinct',\n",
       " 'Issuer Precinct',\n",
       " 'Violation Time']"
      ]
     },
     "execution_count": 93,
     "metadata": {},
     "output_type": "execute_result"
    }
   ],
   "source": [
    "## ********  Check the column names  ******** | Start\n",
    "nyc_taxi.columns\n",
    "## ********  Check the column names  ******** | End"
   ]
  },
  {
   "cell_type": "code",
   "execution_count": 94,
   "metadata": {},
   "outputs": [],
   "source": [
    "## ******* For our convenience, let's add '_' to the column names \n",
    "## that have consective words separated by a space ********* | Start\n",
    "\n",
    "nyc_taxi = nyc_taxi.toDF(*[col.replace(' ','_') for col in nyc_taxi.columns])\n",
    "\n",
    "## ******* For our convenience, let's add '_' to the column names \n",
    "## that have consective words separated by a space ********* | End"
   ]
  },
  {
   "cell_type": "code",
   "execution_count": 95,
   "metadata": {},
   "outputs": [
    {
     "data": {
      "text/plain": [
       "['Summons_Number',\n",
       " 'Plate_ID',\n",
       " 'Registration_State',\n",
       " 'Issue_Date',\n",
       " 'Violation_Code',\n",
       " 'Vehicle_Body_Type',\n",
       " 'Vehicle_Make',\n",
       " 'Violation_Precinct',\n",
       " 'Issuer_Precinct',\n",
       " 'Violation_Time']"
      ]
     },
     "execution_count": 95,
     "metadata": {},
     "output_type": "execute_result"
    }
   ],
   "source": [
    "## ********  Check the column names  ******** | Start\n",
    "nyc_taxi.columns\n",
    "## ********  Check the column names  ******** | End"
   ]
  },
  {
   "cell_type": "code",
   "execution_count": 96,
   "metadata": {},
   "outputs": [
    {
     "data": {
      "text/plain": [
       "StructType(List(StructField(Summons_Number,LongType,true),StructField(Plate_ID,StringType,true),StructField(Registration_State,StringType,true),StructField(Issue_Date,TimestampType,true),StructField(Violation_Code,IntegerType,true),StructField(Vehicle_Body_Type,StringType,true),StructField(Vehicle_Make,StringType,true),StructField(Violation_Precinct,IntegerType,true),StructField(Issuer_Precinct,IntegerType,true),StructField(Violation_Time,StringType,true)))"
      ]
     },
     "execution_count": 96,
     "metadata": {},
     "output_type": "execute_result"
    }
   ],
   "source": [
    "## ********  Let's check the schema of our dataset  ******** | Start\n",
    "nyc_taxi.schema\n",
    "## ********  Let's check the schema of our dataset  ******** | End"
   ]
  },
  {
   "cell_type": "code",
   "execution_count": 97,
   "metadata": {},
   "outputs": [],
   "source": [
    "## ******** In ordwr to execute SQL Queries lets create a temp view ******** | Start\n",
    "\n",
    "nyc_taxi.createOrReplaceTempView(\"dfTable\")\n",
    "\n",
    "## ******** In ordwr to execute SQL Queries lets create a temp view ******** | End"
   ]
  },
  {
   "cell_type": "markdown",
   "metadata": {},
   "source": [
    "## 3. Questions to Be Answered in the Analysis"
   ]
  },
  {
   "cell_type": "markdown",
   "metadata": {},
   "source": [
    "### 3.1. Examine Data"
   ]
  },
  {
   "cell_type": "markdown",
   "metadata": {},
   "source": [
    "<b> Question 1: Find the total number of tickets for the year. </b>"
   ]
  },
  {
   "cell_type": "code",
   "execution_count": 98,
   "metadata": {},
   "outputs": [
    {
     "name": "stdout",
     "output_type": "stream",
     "text": [
      "+-----------+\n",
      "|RecordCount|\n",
      "+-----------+\n",
      "|   10803028|\n",
      "+-----------+\n",
      "\n"
     ]
    }
   ],
   "source": [
    "## ******** Answer 1 ********* | Start\n",
    "spark.sql('SELECT COUNT(*) as RecordCount FROM dfTable').show()\n",
    "## ******** Answer 1 ********* | End"
   ]
  },
  {
   "cell_type": "markdown",
   "metadata": {},
   "source": [
    "<b> Question 2: Find out the number of unique states from where the cars that got parking tickets came. (Hint: Use the column 'Registration State'.) </b>"
   ]
  },
  {
   "cell_type": "code",
   "execution_count": 99,
   "metadata": {},
   "outputs": [
    {
     "name": "stdout",
     "output_type": "stream",
     "text": [
      "+------------------+\n",
      "|Registration_State|\n",
      "+------------------+\n",
      "|                SC|\n",
      "|                AZ|\n",
      "|                NS|\n",
      "|                LA|\n",
      "|                MN|\n",
      "|                NJ|\n",
      "|                MX|\n",
      "|                DC|\n",
      "|                OR|\n",
      "|                99|\n",
      "|                NT|\n",
      "|                VA|\n",
      "|                RI|\n",
      "|                KY|\n",
      "|                WY|\n",
      "|                BC|\n",
      "|                NH|\n",
      "|                MI|\n",
      "|                GV|\n",
      "|                NV|\n",
      "+------------------+\n",
      "only showing top 20 rows\n",
      "\n"
     ]
    }
   ],
   "source": [
    "## ******** Answer 2 ********* | Start\n",
    "\n",
    "## ******* Registration states that got the tickets *******\n",
    "spark.sql('SELECT distinct Registration_State FROM dfTable').show()\n",
    "## ******* Registration states that got the tickets *******"
   ]
  },
  {
   "cell_type": "code",
   "execution_count": 100,
   "metadata": {},
   "outputs": [
    {
     "name": "stdout",
     "output_type": "stream",
     "text": [
      "+----------------------------------+\n",
      "|count(DISTINCT Registration_State)|\n",
      "+----------------------------------+\n",
      "|                                67|\n",
      "+----------------------------------+\n",
      "\n"
     ]
    }
   ],
   "source": [
    "## ******* Finding the total number of distinct registration states from which the cars got the tickets ******* \n",
    "spark.sql('SELECT COUNT(distinct Registration_State) FROM dfTable').show()\n",
    "## ******* Finding the total number of distinct registration states from which the cars got the tickets ******* "
   ]
  },
  {
   "cell_type": "code",
   "execution_count": 101,
   "metadata": {},
   "outputs": [
    {
     "name": "stdout",
     "output_type": "stream",
     "text": [
      "+------------------+-----------+\n",
      "|Registration_State|num_tickets|\n",
      "+------------------+-----------+\n",
      "|                NY|    8481061|\n",
      "|                NJ|     925965|\n",
      "|                PA|     285419|\n",
      "|                FL|     144556|\n",
      "|                CT|     141088|\n",
      "|                MA|      85547|\n",
      "|                IN|      80749|\n",
      "|                VA|      72626|\n",
      "|                MD|      61800|\n",
      "|                NC|      55806|\n",
      "|                IL|      37329|\n",
      "|                GA|      36852|\n",
      "|                99|      36625|\n",
      "|                TX|      36516|\n",
      "|                AZ|      26426|\n",
      "|                OH|      25302|\n",
      "|                CA|      24260|\n",
      "|                SC|      21836|\n",
      "|                ME|      21574|\n",
      "|                MN|      18227|\n",
      "|                OK|      18165|\n",
      "|                TN|      17275|\n",
      "|                DE|      16325|\n",
      "|                MI|      15703|\n",
      "|                RI|      12224|\n",
      "|                NH|       8752|\n",
      "|                VT|       7367|\n",
      "|                AL|       6891|\n",
      "|                WA|       6311|\n",
      "|                ON|       5601|\n",
      "|                OR|       5483|\n",
      "|                MO|       4454|\n",
      "|                QB|       4406|\n",
      "|                DC|       4250|\n",
      "|                WI|       4197|\n",
      "|                IA|       4186|\n",
      "|                CO|       4093|\n",
      "|                KY|       3833|\n",
      "|                MS|       3599|\n",
      "|                LA|       3466|\n",
      "|                DP|       3192|\n",
      "|                ID|       2920|\n",
      "|                AR|       2621|\n",
      "|                WV|       2545|\n",
      "|                NM|       2322|\n",
      "|                SD|       1865|\n",
      "|                NV|       1846|\n",
      "|                KS|       1501|\n",
      "|                NE|       1462|\n",
      "|                UT|       1152|\n",
      "|                MT|       1032|\n",
      "|                AK|        754|\n",
      "|                NS|        730|\n",
      "|                GV|        704|\n",
      "|                ND|        608|\n",
      "|                WY|        411|\n",
      "|                HI|        408|\n",
      "|                AB|        218|\n",
      "|                NB|        137|\n",
      "|                PE|        128|\n",
      "|                BC|        127|\n",
      "|                PR|        110|\n",
      "|                MB|         40|\n",
      "|                SK|         30|\n",
      "|                FO|         12|\n",
      "|                MX|          4|\n",
      "|                NT|          4|\n",
      "+------------------+-----------+\n",
      "\n"
     ]
    }
   ],
   "source": [
    "# ******* We will display the number of tickets state-wise in a descending order  ******* \n",
    "spark.sql('SELECT Registration_State,COUNT(1) as num_tickets FROM dfTable group by \\\n",
    "Registration_State order by num_tickets desc').show(70)\n",
    "# ******* We will display the number of tickets state-wise in a descending order  ******* "
   ]
  },
  {
   "cell_type": "markdown",
   "metadata": {},
   "source": [
    "<b> Comments: </b><br>\n",
    "1. We observe that New York(NY) state has the highest number of tickets.<br>\n",
    "2. There is also a numeric entry in <b> the registration_state column with state code as 99, which must be erroneous.</b><br>\n",
    "3. To proceed with proper analysis, <b> we will replace '99' with the state having the maximum entries i.e NY. </b>"
   ]
  },
  {
   "cell_type": "code",
   "execution_count": 102,
   "metadata": {},
   "outputs": [],
   "source": [
    "## ******* Replacing the state code 99 with NY  ******* | Start\n",
    "nyc_taxi = spark.sql(\n",
    "    \"SELECT Summons_Number,\\\n",
    "            Plate_ID,\\\n",
    "            CASE WHEN Registration_State = 99 THEN 'NY' ELSE Registration_State END AS  Registration_State,\\\n",
    "            Issue_Date,\\\n",
    "            Violation_Code,\\\n",
    "            Vehicle_Body_Type,\\\n",
    "            Vehicle_Make,\\\n",
    "            Violation_Precinct,\\\n",
    "            Issuer_Precinct,\\\n",
    "            Violation_Time\\\n",
    "    FROM dfTable\")\n",
    "## ******* Replacing the state code 99 with NY  ******* | End"
   ]
  },
  {
   "cell_type": "code",
   "execution_count": 103,
   "metadata": {},
   "outputs": [],
   "source": [
    "## ******* Create the view again  ******* | Start\n",
    "nyc_taxi.createOrReplaceTempView(\"dfTable\")\n",
    "## ******* Create the view again  ******* | End"
   ]
  },
  {
   "cell_type": "code",
   "execution_count": 104,
   "metadata": {},
   "outputs": [
    {
     "name": "stdout",
     "output_type": "stream",
     "text": [
      "+------------------+-----------+\n",
      "|Registration_State|num_tickets|\n",
      "+------------------+-----------+\n",
      "|                NY|    8517686|\n",
      "|                NJ|     925965|\n",
      "|                PA|     285419|\n",
      "|                FL|     144556|\n",
      "|                CT|     141088|\n",
      "|                MA|      85547|\n",
      "|                IN|      80749|\n",
      "|                VA|      72626|\n",
      "|                MD|      61800|\n",
      "|                NC|      55806|\n",
      "|                IL|      37329|\n",
      "|                GA|      36852|\n",
      "|                TX|      36516|\n",
      "|                AZ|      26426|\n",
      "|                OH|      25302|\n",
      "|                CA|      24260|\n",
      "|                SC|      21836|\n",
      "|                ME|      21574|\n",
      "|                MN|      18227|\n",
      "|                OK|      18165|\n",
      "|                TN|      17275|\n",
      "|                DE|      16325|\n",
      "|                MI|      15703|\n",
      "|                RI|      12224|\n",
      "|                NH|       8752|\n",
      "|                VT|       7367|\n",
      "|                AL|       6891|\n",
      "|                WA|       6311|\n",
      "|                ON|       5601|\n",
      "|                OR|       5483|\n",
      "|                MO|       4454|\n",
      "|                QB|       4406|\n",
      "|                DC|       4250|\n",
      "|                WI|       4197|\n",
      "|                IA|       4186|\n",
      "|                CO|       4093|\n",
      "|                KY|       3833|\n",
      "|                MS|       3599|\n",
      "|                LA|       3466|\n",
      "|                DP|       3192|\n",
      "|                ID|       2920|\n",
      "|                AR|       2621|\n",
      "|                WV|       2545|\n",
      "|                NM|       2322|\n",
      "|                SD|       1865|\n",
      "|                NV|       1846|\n",
      "|                KS|       1501|\n",
      "|                NE|       1462|\n",
      "|                UT|       1152|\n",
      "|                MT|       1032|\n",
      "|                AK|        754|\n",
      "|                NS|        730|\n",
      "|                GV|        704|\n",
      "|                ND|        608|\n",
      "|                WY|        411|\n",
      "|                HI|        408|\n",
      "|                AB|        218|\n",
      "|                NB|        137|\n",
      "|                PE|        128|\n",
      "|                BC|        127|\n",
      "|                PR|        110|\n",
      "|                MB|         40|\n",
      "|                SK|         30|\n",
      "|                FO|         12|\n",
      "|                MX|          4|\n",
      "|                NT|          4|\n",
      "+------------------+-----------+\n",
      "\n"
     ]
    }
   ],
   "source": [
    "##  ******* Check the states with the ticket counts ******* |Start\n",
    "spark.sql('SELECT Registration_State,COUNT(1) as num_tickets \\\n",
    "FROM dfTable \\\n",
    "group by Registration_State \\\n",
    "order by num_tickets desc').show(70)\n",
    "##  ******* Check the states with the ticket counts ******* |End"
   ]
  },
  {
   "cell_type": "markdown",
   "metadata": {},
   "source": [
    "<b> Comments: </b><br>\n",
    "The erroneous data has been corrected now and the data looks good now"
   ]
  },
  {
   "cell_type": "code",
   "execution_count": 105,
   "metadata": {},
   "outputs": [
    {
     "name": "stdout",
     "output_type": "stream",
     "text": [
      "+----------------------------------+\n",
      "|count(DISTINCT Registration_State)|\n",
      "+----------------------------------+\n",
      "|                                66|\n",
      "+----------------------------------+\n",
      "\n"
     ]
    }
   ],
   "source": [
    "## ******* After replacing the erroneous data find total number of states which received tickets ********\n",
    "spark.sql('SELECT COUNT(distinct Registration_State) FROM dfTable').show()\n",
    "## ******* After replacing the erroneous data find total number of states which received tickets ********"
   ]
  },
  {
   "cell_type": "markdown",
   "metadata": {},
   "source": [
    "<b> Comments: </b><br>\n",
    "After we have merged the erroneous recors with NY the total number of States stand at <b> 66 </b> from 67"
   ]
  },
  {
   "cell_type": "code",
   "execution_count": 106,
   "metadata": {},
   "outputs": [],
   "source": [
    "## ******** Answer 2 ********* | End"
   ]
  },
  {
   "cell_type": "markdown",
   "metadata": {},
   "source": [
    "### 3.2. Aggregation Tasks"
   ]
  },
  {
   "cell_type": "markdown",
   "metadata": {},
   "source": [
    "<b> Question 1: How often does each violation code occur? Display the frequency of the top five violation codes. </b>"
   ]
  },
  {
   "cell_type": "code",
   "execution_count": 107,
   "metadata": {},
   "outputs": [
    {
     "name": "stdout",
     "output_type": "stream",
     "text": [
      "+--------------+---------+\n",
      "|Violation_Code|Frequency|\n",
      "+--------------+---------+\n",
      "|            21|  1528588|\n",
      "|            36|  1400614|\n",
      "|            38|  1062304|\n",
      "|            14|   893498|\n",
      "|            20|   618593|\n",
      "+--------------+---------+\n",
      "only showing top 5 rows\n",
      "\n"
     ]
    }
   ],
   "source": [
    "## ******** Answer 1 ******** | Start\n",
    "spark.sql('SELECT Violation_Code,count(*) as Frequency \\\n",
    "FROM dfTable \\\n",
    "group by Violation_Code \\\n",
    "order by Frequency desc').show(5)\n",
    "## ******** Answer 1 ******** | End"
   ]
  },
  {
   "cell_type": "markdown",
   "metadata": {},
   "source": [
    "<b> Comments: </b> <br>\n",
    "The highest number of tickets falls is under Violation <b> code 21 </b> i.e <mark><b>Street Cleaning:</b> No parking where parking is not allowed by sign, street marking or traffic control device.</mark>"
   ]
  },
  {
   "cell_type": "markdown",
   "metadata": {},
   "source": [
    "<b> Question 2: How often does each 'vehicle body type' get a parking ticket? How about the 'vehicle make'? (Hint: Find the top 5 for both.) </b>"
   ]
  },
  {
   "cell_type": "code",
   "execution_count": 108,
   "metadata": {},
   "outputs": [
    {
     "name": "stdout",
     "output_type": "stream",
     "text": [
      "+-----------------+---------+\n",
      "|Vehicle_Body_Type|Frequency|\n",
      "+-----------------+---------+\n",
      "|             SUBN|  3719802|\n",
      "|             4DSD|  3082020|\n",
      "|              VAN|  1411970|\n",
      "|             DELV|   687330|\n",
      "|              SDN|   438191|\n",
      "+-----------------+---------+\n",
      "only showing top 5 rows\n",
      "\n"
     ]
    }
   ],
   "source": [
    "## ******** Answer 2 ******** | Start\n",
    "## ******** Check the frequency based on Body Type *********\n",
    "spark.sql('SELECT Vehicle_Body_Type,count(*) as Frequency \\\n",
    "FROM dfTable \\\n",
    "group by Vehicle_Body_Type \\\n",
    "order by Frequency desc').show(5)\n",
    "## ******** Check the frequency based on Body Type *********"
   ]
  },
  {
   "cell_type": "markdown",
   "metadata": {},
   "source": [
    "<b> How about the 'vehicle make'? </b>"
   ]
  },
  {
   "cell_type": "code",
   "execution_count": 109,
   "metadata": {},
   "outputs": [
    {
     "name": "stdout",
     "output_type": "stream",
     "text": [
      "+------------+---------+\n",
      "|Vehicle_Make|Frequency|\n",
      "+------------+---------+\n",
      "|        FORD|  1280958|\n",
      "|       TOYOT|  1211451|\n",
      "|       HONDA|  1079238|\n",
      "|       NISSA|   918590|\n",
      "|       CHEVR|   714655|\n",
      "+------------+---------+\n",
      "only showing top 5 rows\n",
      "\n"
     ]
    }
   ],
   "source": [
    "## ******** Check the frequency based on Vehicle Make *********\n",
    "spark.sql('SELECT Vehicle_Make,count(*) as Frequency \\\n",
    "FROM dfTable \\\n",
    "group by Vehicle_Make \\\n",
    "order by Frequency desc').show(5)\n",
    "## ******** Check the frequency based on Vehicle Make *********"
   ]
  },
  {
   "cell_type": "code",
   "execution_count": 110,
   "metadata": {},
   "outputs": [
    {
     "name": "stdout",
     "output_type": "stream",
     "text": [
      "+------------+-----------------+---------+\n",
      "|Vehicle_Make|Vehicle_Body_Type|Frequency|\n",
      "+------------+-----------------+---------+\n",
      "|       TOYOT|             4DSD|   543683|\n",
      "|        FORD|              VAN|   535545|\n",
      "|       TOYOT|             SUBN|   460332|\n",
      "|       HONDA|             4DSD|   453586|\n",
      "|       HONDA|             SUBN|   448744|\n",
      "+------------+-----------------+---------+\n",
      "only showing top 5 rows\n",
      "\n"
     ]
    }
   ],
   "source": [
    "## ******** Check the frequency based on Vehicle Make and Body Type *********\n",
    "spark.sql('SELECT Vehicle_Make,Vehicle_Body_Type,count(*) as Frequency \\\n",
    "FROM dfTable \\\n",
    "group by Vehicle_Make,Vehicle_Body_Type \\\n",
    "order by Frequency desc').show(5)\n",
    "## ******** Check the frequency based on Vehicle Make and Body Type *********"
   ]
  },
  {
   "cell_type": "markdown",
   "metadata": {},
   "source": [
    "<b> Comments: </b> <br>\n",
    "1. <b> Vehicle body type - SUBN </b> is having highest number of tickets\n",
    "2. <b> Ford </b> as a Vehicle make is having the highest number of tickets\n",
    "3. But if we check <b>both by Vehicle body type and make</b> , <b><mark>Toyota with 4DSD body type</mark></b> is having highest ticket count"
   ]
  },
  {
   "cell_type": "code",
   "execution_count": 111,
   "metadata": {},
   "outputs": [],
   "source": [
    "## ******** Answer 2 ******** | End"
   ]
  },
  {
   "cell_type": "markdown",
   "metadata": {},
   "source": [
    "<b> Question 3: A precinct is a police station that has a certain zone of the city under its command. Find the (5 highest) frequencies of tickets for each of the following:\n",
    "</b>\n",
    "\n",
    "<ul>\n",
    "    <li> <b> Violation Precinct'</b> (This is the precinct of the zone where the violation occurred). Using this, can you draw any insights for parking violations in any specific areas of the city? </li>\n",
    "    <li><b>'Issuer Precinct'</b> (This is the precinct that issued the ticket.)\n",
    " </li>\n",
    "</ul>\n",
    "<br> Here, you would have noticed that the dataframe has the'Violating Precinct' or 'Issuing Precinct' as '0'. These are erroneous entries. Hence, you need to provide the records for five correct precincts. (Hint: Print the top six entries after sorting.)"
   ]
  },
  {
   "cell_type": "markdown",
   "metadata": {},
   "source": [
    "<center> <b> ++++++++++ Answer 3 | Start ++++++++++</b>  </center>"
   ]
  },
  {
   "cell_type": "code",
   "execution_count": 112,
   "metadata": {},
   "outputs": [
    {
     "name": "stdout",
     "output_type": "stream",
     "text": [
      "+------------------+--------------------+\n",
      "|Violation_Precinct|Frequency_of_Tickets|\n",
      "+------------------+--------------------+\n",
      "|                 0|             2072400|\n",
      "|                19|              535671|\n",
      "|                14|              352450|\n",
      "|                 1|              331810|\n",
      "|                18|              306920|\n",
      "+------------------+--------------------+\n",
      "only showing top 5 rows\n",
      "\n"
     ]
    }
   ],
   "source": [
    "## ******** Check the frequency by Violation Precinct **********\n",
    "spark.sql('SELECT Violation_Precinct,count(*) as Frequency_of_Tickets \\\n",
    "FROM dfTable \\\n",
    "group by Violation_Precinct \\\n",
    "order by Frequency_of_Tickets desc').show(5)\n",
    "## ******** Check the frequency by Violation Precinct **********"
   ]
  },
  {
   "cell_type": "markdown",
   "metadata": {},
   "source": [
    "<b>Comments:</b><br>\n",
    "Since the results show the'Violating Precinct' as '0' which are erroneous entries. Let's display the top 6 results now."
   ]
  },
  {
   "cell_type": "code",
   "execution_count": 113,
   "metadata": {},
   "outputs": [
    {
     "name": "stdout",
     "output_type": "stream",
     "text": [
      "+------------------+---------+\n",
      "|Violation_Precinct|Frequency|\n",
      "+------------------+---------+\n",
      "|                 0|  2072400|\n",
      "|                19|   535671|\n",
      "|                14|   352450|\n",
      "|                 1|   331810|\n",
      "|                18|   306920|\n",
      "|               114|   296514|\n",
      "+------------------+---------+\n",
      "only showing top 6 rows\n",
      "\n"
     ]
    }
   ],
   "source": [
    "## ******** Check the frequency by Violation Precinct (Top 6) **********\n",
    "spark.sql('SELECT Violation_Precinct,count(*) as Frequency FROM dfTable group by Violation_Precinct order by Frequency desc').show(6)\n",
    "## ******** Check the frequency by Violation Precinct (Top 6) **********"
   ]
  },
  {
   "cell_type": "markdown",
   "metadata": {},
   "source": [
    "<b>Comments: </b>\n",
    "\n",
    "Hence top 5 correct violating precints are as follows:<br>\n",
    "<ul>\n",
    "    <li>Violation Code 19</li>\n",
    "    <li>Violation Code 14</li>\n",
    "    <li>Violation Code 1</li>\n",
    "    <li>Violation Code 18</li>\n",
    "    <li>Violation Code 118</li>\n",
    "</ul>"
   ]
  },
  {
   "cell_type": "code",
   "execution_count": 114,
   "metadata": {},
   "outputs": [
    {
     "name": "stdout",
     "output_type": "stream",
     "text": [
      "+---------------+---------+\n",
      "|Issuer_Precinct|Frequency|\n",
      "+---------------+---------+\n",
      "|              0|  2388479|\n",
      "|             19|   521513|\n",
      "|             14|   344977|\n",
      "|              1|   321170|\n",
      "|             18|   296553|\n",
      "|            114|   289950|\n",
      "+---------------+---------+\n",
      "only showing top 6 rows\n",
      "\n"
     ]
    }
   ],
   "source": [
    "## ******** Check the frequency by Issuer Precinct **********\n",
    "spark.sql('SELECT Issuer_Precinct,count(*) as Frequency \\\n",
    "FROM dfTable \\\n",
    "group by Issuer_Precinct \\\n",
    "order by Frequency desc').show(6)\n",
    "## ******** Check the frequency by Issuer Precinct **********"
   ]
  },
  {
   "cell_type": "markdown",
   "metadata": {},
   "source": [
    "<b>Comments: </b><br>\n",
    "Since 0 is considered as erroneous, we will consider the remaining 5 precints that issued the tickets. <br>\n",
    "<b> <mark>The top five highest frequency of tickets are issued by precincts 19,14,1,18 and 114 respectively.</mark><b>"
   ]
  },
  {
   "cell_type": "markdown",
   "metadata": {},
   "source": [
    "<center> <b> ++++++++++ Answer 3 | End ++++++++++</b>  </center>"
   ]
  },
  {
   "cell_type": "markdown",
   "metadata": {},
   "source": [
    "<b> Question 4: Find the violation code frequencies for three precincts that have issued the most number of tickets. Do these precinct zones have an exceptionally high frequency of certain violation codes? Are these codes common across precincts?</b>"
   ]
  },
  {
   "cell_type": "markdown",
   "metadata": {},
   "source": [
    "<center> <b> ++++++++++ Answer 4 | Start ++++++++++</b>  </center>"
   ]
  },
  {
   "cell_type": "code",
   "execution_count": 115,
   "metadata": {},
   "outputs": [
    {
     "name": "stdout",
     "output_type": "stream",
     "text": [
      "+---------------+--------------+--------------------+\n",
      "|Issuer_Precinct|Violation_Code|Frequency_of_Tickets|\n",
      "+---------------+--------------+--------------------+\n",
      "|             19|            46|               86390|\n",
      "|             19|            37|               72437|\n",
      "|             19|            38|               72344|\n",
      "|             19|            14|               57563|\n",
      "|             19|            21|               54700|\n",
      "+---------------+--------------+--------------------+\n",
      "only showing top 5 rows\n",
      "\n"
     ]
    }
   ],
   "source": [
    "## ********* Violation Codes for Issuer Precinct 19 **********\n",
    "spark.sql('SELECT Issuer_Precinct,Violation_Code,count(*) as Frequency_of_Tickets FROM dfTable \\\n",
    "           WHERE Issuer_Precinct = 19\\\n",
    "           group by Issuer_Precinct,Violation_Code \\\n",
    "           order by Issuer_Precinct,Frequency_of_Tickets desc').show(5)\n",
    "## ********* Violation Codes for Issuer Precinct 19 **********"
   ]
  },
  {
   "cell_type": "markdown",
   "metadata": {},
   "source": [
    "<b> Comments:</b><br>\n",
    "For Issuer Precinct 19, the highest number of tickets has been issued for violation code 46."
   ]
  },
  {
   "cell_type": "code",
   "execution_count": 116,
   "metadata": {},
   "outputs": [
    {
     "name": "stdout",
     "output_type": "stream",
     "text": [
      "+---------------+--------------+--------------------+\n",
      "|Issuer_Precinct|Violation_Code|Frequency_of_Tickets|\n",
      "+---------------+--------------+--------------------+\n",
      "|             14|            14|               73837|\n",
      "|             14|            69|               58026|\n",
      "|             14|            31|               39857|\n",
      "|             14|            47|               30540|\n",
      "|             14|            42|               20663|\n",
      "+---------------+--------------+--------------------+\n",
      "only showing top 5 rows\n",
      "\n"
     ]
    }
   ],
   "source": [
    "## ********* Violation Codes for Issuer Precinct 14 **********\n",
    "spark.sql('SELECT Issuer_Precinct,Violation_Code,count(*) as Frequency_of_Tickets FROM dfTable \\\n",
    "           WHERE Issuer_Precinct = 14\\\n",
    "           group by Issuer_Precinct,Violation_Code \\\n",
    "           order by Issuer_Precinct,Frequency_of_Tickets desc').show(5)\n",
    "## ********* Violation Codes for Issuer Precinct 14 **********"
   ]
  },
  {
   "cell_type": "markdown",
   "metadata": {},
   "source": [
    "<b> Comments:</b><br>\n",
    "For Issuer Precinct 14,the highest number of tickets has been issued for violation code 14."
   ]
  },
  {
   "cell_type": "code",
   "execution_count": 117,
   "metadata": {},
   "outputs": [
    {
     "name": "stdout",
     "output_type": "stream",
     "text": [
      "+---------------+--------------+--------------------+\n",
      "|Issuer_Precinct|Violation_Code|Frequency_of_Tickets|\n",
      "+---------------+--------------+--------------------+\n",
      "|              1|            14|               73522|\n",
      "|              1|            16|               38937|\n",
      "|              1|            20|               27841|\n",
      "|              1|            46|               22534|\n",
      "|              1|            38|               16989|\n",
      "+---------------+--------------+--------------------+\n",
      "only showing top 5 rows\n",
      "\n"
     ]
    }
   ],
   "source": [
    "## ********* Violation Codes for Issuer Precinct 1 **********\n",
    "spark.sql('SELECT Issuer_Precinct,Violation_Code,count(*) as Frequency_of_Tickets FROM dfTable \\\n",
    "           WHERE Issuer_Precinct = 1\\\n",
    "           group by Issuer_Precinct,Violation_Code \\\n",
    "           order by Issuer_Precinct,Frequency_of_Tickets desc').show(5)\n",
    "## ********* Violation Codes for Issuer Precinct 1 **********"
   ]
  },
  {
   "cell_type": "markdown",
   "metadata": {},
   "source": [
    "<b> Comments:</b><br>\n",
    "For Issuer Precinct 1,the highest number of tickets has been issued for violation code 46."
   ]
  },
  {
   "cell_type": "code",
   "execution_count": 118,
   "metadata": {},
   "outputs": [
    {
     "name": "stdout",
     "output_type": "stream",
     "text": [
      "+--------------+--------------------+\n",
      "|Violation_Code|Frequency_of_Tickets|\n",
      "+--------------+--------------------+\n",
      "|            21|             1194971|\n",
      "|            38|              966350|\n",
      "|            14|              681488|\n",
      "|            20|              553714|\n",
      "|            37|              507848|\n",
      "+--------------+--------------------+\n",
      "only showing top 5 rows\n",
      "\n"
     ]
    }
   ],
   "source": [
    "## ********* Violation Codes for other Issuer Precinct **********\n",
    "spark.sql('SELECT Violation_Code,count(*) as Frequency_of_Tickets FROM dfTable \\\n",
    "           WHERE Issuer_Precinct NOT IN (0,19,14,1)\\\n",
    "           group by Violation_Code \\\n",
    "           order by Frequency_of_Tickets desc').show(5)\n",
    "## ********* Violation Codes for other Issuer Precinct **********"
   ]
  },
  {
   "cell_type": "markdown",
   "metadata": {},
   "source": [
    "<b> Comments :</b><br>\n",
    "For other Issuer precinct's, the highest number of tickets has been issued for violation code 21,38 and 14."
   ]
  },
  {
   "cell_type": "markdown",
   "metadata": {},
   "source": [
    "<b> Overall Comments for Answer 4 </b><br>\n",
    "1. <mark> Out of the top three precincts, precincts 14 and 1 have the highest number of tickets issued for violation code 14. </mark>\n",
    "2. <mark> Hence, violation code 14 can be considered as the most common violation code across different precincts.</mark>"
   ]
  },
  {
   "cell_type": "markdown",
   "metadata": {},
   "source": [
    "<center> <b> ++++++++++ Answer 4 | End ++++++++++</b>  </center>"
   ]
  },
  {
   "cell_type": "markdown",
   "metadata": {},
   "source": [
    "<b> Question 5: Find out the properties of parking violations across different times of the day:\n",
    "</b>\n",
    "\n",
    "<ul>\n",
    "    <li> <b> Find a way to deal with missing values, if any.</b>\n",
    "(Hint: Check for the null values using 'isNull' under the SQL. Also, to remove the null values, check the 'dropna' command in the API documentation.) </li>\n",
    "    <li>The Violation Time field is specified in a strange format. Find a way to make this a time attribute that you can use to divide into groups.\n",
    " </li>\n",
    "    <li>Divide 24 hours into six equal discrete bins of time. Choose the intervals as you see fit. For each of these groups, find the three most commonly occurring violations.\n",
    "(Hint: Use the CASE-WHEN in SQL view to segregate into bins. To find the most commonly occurring violations, you can use an approach similar to the one mentioned in the hint for question 4.)</li>\n",
    "    <li>Now, try another direction. For the three most commonly occurring violation codes, find the most common time of the day (in terms of the bins from the previous part)</li>\n",
    "</ul>\n",
    "<br>"
   ]
  },
  {
   "cell_type": "markdown",
   "metadata": {},
   "source": [
    "<center> <b> ++++++++++ Answer 5 | Start ++++++++++</b>  </center>"
   ]
  },
  {
   "cell_type": "code",
   "execution_count": 119,
   "metadata": {},
   "outputs": [
    {
     "name": "stdout",
     "output_type": "stream",
     "text": [
      "Checked Null values for Column - Summons_Number: 0\n",
      "Checked Null values for Column - Plate_ID: 0\n",
      "Checked Null values for Column - Registration_State: 0\n",
      "Checked Null values for Column - Issue_Date: 0\n",
      "Checked Null values for Column - Violation_Code: 0\n",
      "Checked Null values for Column - Vehicle_Body_Type: 0\n",
      "Checked Null values for Column - Vehicle_Make: 0\n",
      "Checked Null values for Column - Violation_Precinct: 0\n",
      "Checked Null values for Column - Issuer_Precinct: 0\n",
      "Checked Null values for Column - Violation_Time: 0\n"
     ]
    }
   ],
   "source": [
    "## ********* Check for Nulls in the columns ****************\n",
    "from pyspark.sql.functions import isnan, when, count, col\n",
    "## ********* Check for Null values in each columns ************\n",
    "for cl in nyc_taxi.columns:\n",
    "    if(cl!='Issue_Date'):\n",
    "        #print(\"Checked Null values for Column - \",cl)\n",
    "        print(\"Checked Null values for Column - \"+cl+\": \"+str(nyc_taxi.filter((nyc_taxi[cl]==\"\")|(nyc_taxi[cl].isNull())|(isnan(nyc_taxi[cl]))).count()))\n",
    "    else:\n",
    "        print(\"Checked Null values for Column - \"+cl+\": \"+str(nyc_taxi.filter((nyc_taxi[cl]==\"\")).count()))\n",
    "## ********* Check for Null values in each columns ************"
   ]
  },
  {
   "cell_type": "markdown",
   "metadata": {},
   "source": [
    "<b> Comments : </b> <br>\n",
    "As per the query results, there are No null values in the dataset."
   ]
  },
  {
   "cell_type": "code",
   "execution_count": 120,
   "metadata": {},
   "outputs": [
    {
     "name": "stdout",
     "output_type": "stream",
     "text": [
      "+----------+\n",
      "|CountNulls|\n",
      "+----------+\n",
      "|         0|\n",
      "+----------+\n",
      "\n"
     ]
    }
   ],
   "source": [
    "## ********* Check for any null values ***********\n",
    "spark.sql('SELECT COUNT(1) as CountNulls FROM dfTable \\\n",
    "           WHERE Summons_Number IS NULL or Plate_ID is null or Registration_State is null\\\n",
    "           or Issue_Date is null or Violation_Code is null or Vehicle_Body_Type is null or Vehicle_Make is null\\\n",
    "           or Violation_Precinct is null or Issuer_Precinct is null or Violation_Time is null').show()\n",
    "## ********* Check for any null values ***********"
   ]
  },
  {
   "cell_type": "markdown",
   "metadata": {},
   "source": [
    "<b> Comments : </b> <br>\n",
    "As per the query results, there are No null values in the dataset."
   ]
  },
  {
   "cell_type": "code",
   "execution_count": 121,
   "metadata": {},
   "outputs": [],
   "source": [
    "## ********** Let's use dropna to ensure NA values are removed. ************\n",
    "nyc_taxi_updated = nyc_taxi.na.drop()\n",
    "## ********** Let's use dropna to ensure NA values are removed. ************"
   ]
  },
  {
   "cell_type": "markdown",
   "metadata": {},
   "source": [
    "<b> Comments : </b> <br>\n",
    "As there is no null values , nothing is removed"
   ]
  },
  {
   "cell_type": "code",
   "execution_count": 122,
   "metadata": {},
   "outputs": [
    {
     "data": {
      "text/plain": [
       "10803028"
      ]
     },
     "execution_count": 122,
     "metadata": {},
     "output_type": "execute_result"
    }
   ],
   "source": [
    "## ******* Let's check the count of rows again ******** | The number of rows will remain unchanged\n",
    "nyc_taxi_updated.count()\n",
    "## ******* Let's check the count of rows again ******** | The number of rows will remain unchanged"
   ]
  },
  {
   "cell_type": "markdown",
   "metadata": {},
   "source": [
    "<b> Comments: </b> <br>The Violation Time field is specified in a strange format. It is in the format Hr+Min+TimeMeridiem. Let's Find a way to make this a time attribute that you we can use to divide into groups."
   ]
  },
  {
   "cell_type": "code",
   "execution_count": 123,
   "metadata": {},
   "outputs": [
    {
     "name": "stdout",
     "output_type": "stream",
     "text": [
      "+--------------+\n",
      "|Violation_Time|\n",
      "+--------------+\n",
      "|         0143A|\n",
      "|         0400P|\n",
      "|         0233P|\n",
      "|         1120A|\n",
      "|         0555P|\n",
      "|         0852P|\n",
      "|         0215A|\n",
      "|         0758A|\n",
      "|         1005A|\n",
      "|         0845A|\n",
      "|         0015A|\n",
      "|         0707A|\n",
      "|         1022A|\n",
      "|         1150A|\n",
      "|         0525A|\n",
      "|         0645P|\n",
      "|         1122A|\n",
      "|         0256P|\n",
      "|         1232A|\n",
      "|         1034A|\n",
      "+--------------+\n",
      "only showing top 20 rows\n",
      "\n"
     ]
    }
   ],
   "source": [
    "#Let's check the violation time column now-\n",
    "nyc_taxi_updated.select('Violation_Time').show()"
   ]
  },
  {
   "cell_type": "code",
   "execution_count": 124,
   "metadata": {},
   "outputs": [
    {
     "name": "stdout",
     "output_type": "stream",
     "text": [
      "+-----------+\n",
      "|Time_24_HRS|\n",
      "+-----------+\n",
      "|      01:43|\n",
      "|      16:00|\n",
      "|      14:33|\n",
      "|      11:20|\n",
      "|      17:55|\n",
      "+-----------+\n",
      "only showing top 5 rows\n",
      "\n"
     ]
    }
   ],
   "source": [
    "## ********* The Violation Time field is specified in a strange format. Correct the format in 24HRS format **********\n",
    "spark.sql('''Select * from (SELECT CASE WHEN SUBSTRING(Violation_Time,5,1) = 'A' THEN  concat(SUBSTRING(Violation_Time,1,2),':',SUBSTRING(Violation_Time,3,2)) \\\n",
    "WHEN SUBSTRING(Violation_Time,5,1) = 'P' THEN concat(CAST(CAST(SUBSTRING(Violation_Time,1,2) AS INT)+12 as CHAR(2)),':',SUBSTRING(Violation_Time,3,2)) \\\n",
    "ELSE SUBSTRING(Violation_Time,5,1) \\\n",
    "END as Time_24_HRS \\\n",
    "FROM dfTable) as Temp where SUBSTRING(Time_24_HRS,1,2)<=23''').show(5)\n",
    "## ********* The Violation Time field is specified in a strange format. Correct the format in 24HRS format **********"
   ]
  },
  {
   "cell_type": "code",
   "execution_count": 125,
   "metadata": {},
   "outputs": [
    {
     "name": "stdout",
     "output_type": "stream",
     "text": [
      "+--------+\n",
      "|count(1)|\n",
      "+--------+\n",
      "| 9812167|\n",
      "+--------+\n",
      "\n"
     ]
    }
   ],
   "source": [
    "## ********* Count after Filtering out records in 24 hour format **********\n",
    "spark.sql('''Select count(*) from (SELECT CASE WHEN SUBSTRING(Violation_Time,5,1) = 'A' THEN  concat(SUBSTRING(Violation_Time,1,2),':',SUBSTRING(Violation_Time,3,2)) \\\n",
    "WHEN SUBSTRING(Violation_Time,5,1) = 'P' THEN concat(CAST(CAST(SUBSTRING(Violation_Time,1,2) AS INT)+12 as CHAR(2)),':',SUBSTRING(Violation_Time,3,2)) \\\n",
    "ELSE SUBSTRING(Violation_Time,5,1) \\\n",
    "END as Time_24_HRS \\\n",
    "FROM dfTable) as Temp where SUBSTRING(Time_24_HRS,1,2)<=23''').show(5)\n",
    "## ********* The Violation Time field is specified in a strange format. Correct the format in 24HRS format **********"
   ]
  },
  {
   "cell_type": "code",
   "execution_count": 126,
   "metadata": {},
   "outputs": [
    {
     "name": "stdout",
     "output_type": "stream",
     "text": [
      "+--------+\n",
      "|count(1)|\n",
      "+--------+\n",
      "|10803028|\n",
      "+--------+\n",
      "\n"
     ]
    }
   ],
   "source": [
    "## ********* Checking count without filtering out 24 hour format **********\n",
    "spark.sql('''Select count(*) from (SELECT CASE WHEN SUBSTRING(Violation_Time,5,1) = 'A' THEN  concat(SUBSTRING(Violation_Time,1,2),':',SUBSTRING(Violation_Time,3,2)) \\\n",
    "WHEN SUBSTRING(Violation_Time,5,1) = 'P' THEN concat(CAST(CAST(SUBSTRING(Violation_Time,1,2) AS INT)+12 as CHAR(2)),':',SUBSTRING(Violation_Time,3,2)) \\\n",
    "ELSE SUBSTRING(Violation_Time,5,1) \\\n",
    "END as Time_24_HRS \\\n",
    "FROM dfTable) as Temp''').show(5)\n",
    "## ********* Checking count without filtering out 24 hour format **********"
   ]
  },
  {
   "cell_type": "markdown",
   "metadata": {},
   "source": [
    "<b> Comments:</b><br>\n",
    "We see that there is a decrease of record count after we filtered out those records which are not in proper time format"
   ]
  },
  {
   "cell_type": "code",
   "execution_count": 127,
   "metadata": {},
   "outputs": [
    {
     "name": "stdout",
     "output_type": "stream",
     "text": [
      "+--------------+-----------+\n",
      "|Violation_Code|Time_24_HRS|\n",
      "+--------------+-----------+\n",
      "|             7|      01:43|\n",
      "|             7|      16:00|\n",
      "|             5|      14:33|\n",
      "|            47|      11:20|\n",
      "|            69|      17:55|\n",
      "+--------------+-----------+\n",
      "only showing top 5 rows\n",
      "\n"
     ]
    }
   ],
   "source": [
    "## ********* The Violation Code with time in 24 Hrs format **********\n",
    "spark.sql('''Select * from (SELECT Violation_Code,CASE WHEN SUBSTRING(Violation_Time,5,1) = 'A' THEN  concat(SUBSTRING(Violation_Time,1,2),':',SUBSTRING(Violation_Time,3,2)) \\\n",
    "WHEN SUBSTRING(Violation_Time,5,1) = 'P' THEN concat(CAST(CAST(SUBSTRING(Violation_Time,1,2) AS INT)+12 as CHAR(2)),':',SUBSTRING(Violation_Time,3,2)) \\\n",
    "ELSE SUBSTRING(Violation_Time,5,1) \\\n",
    "END as Time_24_HRS \\\n",
    "FROM dfTable) as Temp where SUBSTRING(Time_24_HRS,1,2)<=23''').show(5)\n",
    "## ********* The Violation Code with time in 24 Hrs format **********"
   ]
  },
  {
   "cell_type": "code",
   "execution_count": 128,
   "metadata": {},
   "outputs": [
    {
     "name": "stdout",
     "output_type": "stream",
     "text": [
      "+--------------+------------+\n",
      "|Violation_Code| Time_bucket|\n",
      "+--------------+------------+\n",
      "|             7|   MID NIGHT|\n",
      "|             7|   AFTERNOON|\n",
      "|             5|   AFTERNOON|\n",
      "|            47|OFFICE HOURS|\n",
      "|            69|     EVENING|\n",
      "+--------------+------------+\n",
      "only showing top 5 rows\n",
      "\n"
     ]
    }
   ],
   "source": [
    "## ********* The Violation Code with time bins (each bin 4 hours) **********\n",
    "spark.sql('''Select Violation_Code, CASE WHEN SUBSTRING_INDEX(Time_24_HRS,':',1) >=0 and SUBSTRING_INDEX(Time_24_HRS,':',1) <=4 THEN 'MID NIGHT' \\\n",
    "WHEN SUBSTRING_INDEX(Time_24_HRS,':',1) >4 and SUBSTRING_INDEX(Time_24_HRS,':',1) <=8 THEN 'EARLY MORNING'\\\n",
    "WHEN SUBSTRING_INDEX(Time_24_HRS,':',1) >8 and SUBSTRING_INDEX(Time_24_HRS,':',1) <=12 THEN 'OFFICE HOURS'\\\n",
    "WHEN SUBSTRING_INDEX(Time_24_HRS,':',1) >12 and SUBSTRING_INDEX(Time_24_HRS,':',1) <=16 THEN 'AFTERNOON'\\\n",
    "WHEN SUBSTRING_INDEX(Time_24_HRS,':',1) >16 and SUBSTRING_INDEX(Time_24_HRS,':',1) <=20 THEN 'EVENING'\\\n",
    "WHEN SUBSTRING_INDEX(Time_24_HRS,':',1) >20 and SUBSTRING_INDEX(Time_24_HRS,':',1) <=23 THEN 'NIGHT'\\\n",
    "END as Time_bucket \\\n",
    "from (Select * from (SELECT Violation_Code,CASE WHEN SUBSTRING(Violation_Time,5,1) = 'A' THEN  concat(SUBSTRING(Violation_Time,1,2),':',SUBSTRING(Violation_Time,3,2)) \\\n",
    "WHEN SUBSTRING(Violation_Time,5,1) = 'P' THEN concat(CAST(CAST(SUBSTRING(Violation_Time,1,2) AS INT)+12 as CHAR(2)),':',SUBSTRING(Violation_Time,3,2)) \\\n",
    "ELSE SUBSTRING(Violation_Time,5,1) \\\n",
    "END as Time_24_HRS \\\n",
    "FROM dfTable) as Temp where SUBSTRING(Time_24_HRS,1,2)<=23) as dfTemp''').show(5)\n",
    "## ********* The Violation Code with time bins (each bin 4 hours) **********"
   ]
  },
  {
   "cell_type": "code",
   "execution_count": 129,
   "metadata": {},
   "outputs": [
    {
     "name": "stdout",
     "output_type": "stream",
     "text": [
      "+--------------+-------------+----------------+\n",
      "|Violation_Code|  Time_bucket|Frequency_ticket|\n",
      "+--------------+-------------+----------------+\n",
      "|            21| OFFICE HOURS|          806290|\n",
      "|            36| OFFICE HOURS|          614877|\n",
      "|            21|EARLY MORNING|          498338|\n",
      "|            38|    AFTERNOON|          453644|\n",
      "|            36|    AFTERNOON|          394403|\n",
      "|            37|    AFTERNOON|          339739|\n",
      "|            38| OFFICE HOURS|          296251|\n",
      "|            14|    AFTERNOON|          279224|\n",
      "|            20|    AFTERNOON|          215704|\n",
      "|            46|    AFTERNOON|          209325|\n",
      "|            14| OFFICE HOURS|          208171|\n",
      "|            14|EARLY MORNING|          207958|\n",
      "|            71|    AFTERNOON|          190989|\n",
      "|            46| OFFICE HOURS|          190134|\n",
      "|            36|EARLY MORNING|          170484|\n",
      "|             7|    AFTERNOON|          151209|\n",
      "|            71| OFFICE HOURS|          149799|\n",
      "|            40|EARLY MORNING|          139382|\n",
      "|            20| OFFICE HOURS|          130159|\n",
      "|            20|EARLY MORNING|          129826|\n",
      "+--------------+-------------+----------------+\n",
      "only showing top 20 rows\n",
      "\n"
     ]
    }
   ],
   "source": [
    "## ********* The Frequency of Violation Codes based on Time bucket  **********\n",
    "spark.sql('''Select Violation_Code, Time_bucket, count(*) as Frequency_ticket \\\n",
    "from (Select Violation_Code, CASE WHEN SUBSTRING_INDEX(Time_24_HRS,':',1) >=0 and SUBSTRING_INDEX(Time_24_HRS,':',1) <=4 THEN 'MID NIGHT' \\\n",
    "WHEN SUBSTRING_INDEX(Time_24_HRS,':',1) >4 and SUBSTRING_INDEX(Time_24_HRS,':',1) <=8 THEN 'EARLY MORNING'\\\n",
    "WHEN SUBSTRING_INDEX(Time_24_HRS,':',1) >8 and SUBSTRING_INDEX(Time_24_HRS,':',1) <=12 THEN 'OFFICE HOURS'\\\n",
    "WHEN SUBSTRING_INDEX(Time_24_HRS,':',1) >12 and SUBSTRING_INDEX(Time_24_HRS,':',1) <=16 THEN 'AFTERNOON'\\\n",
    "WHEN SUBSTRING_INDEX(Time_24_HRS,':',1) >16 and SUBSTRING_INDEX(Time_24_HRS,':',1) <=20 THEN 'EVENING'\\\n",
    "WHEN SUBSTRING_INDEX(Time_24_HRS,':',1) >20 and SUBSTRING_INDEX(Time_24_HRS,':',1) <=23 THEN 'NIGHT'\\\n",
    "END as Time_bucket \\\n",
    "from (Select * from (SELECT Violation_Code,CASE WHEN SUBSTRING(Violation_Time,5,1) = 'A' THEN  concat(SUBSTRING(Violation_Time,1,2),':',SUBSTRING(Violation_Time,3,2)) \\\n",
    "WHEN SUBSTRING(Violation_Time,5,1) = 'P' THEN concat(CAST(CAST(SUBSTRING(Violation_Time,1,2) AS INT)+12 as CHAR(2)),':',SUBSTRING(Violation_Time,3,2)) \\\n",
    "ELSE SUBSTRING(Violation_Time,5,1) \\\n",
    "END as Time_24_HRS \\\n",
    "FROM dfTable) as Temp where SUBSTRING(Time_24_HRS,1,2)<=23) as dfTemp) \\\n",
    "group by Violation_Code,Time_bucket \\\n",
    "order by Frequency_ticket desc''').show(20)\n",
    "## ********* The Frequency of Violation Codes based on Time bucket  **********"
   ]
  },
  {
   "cell_type": "code",
   "execution_count": 130,
   "metadata": {},
   "outputs": [],
   "source": [
    "## ********* The Frequency of Violation Codes based on Time bucket - get the object  **********\n",
    "dfObject=spark.sql('''Select Violation_Code, Time_bucket, count(*) as Frequency_ticket \\\n",
    "from (Select Violation_Code, CASE WHEN SUBSTRING_INDEX(Time_24_HRS,':',1) >=0 and SUBSTRING_INDEX(Time_24_HRS,':',1) <=4 THEN 'MID NIGHT' \\\n",
    "WHEN SUBSTRING_INDEX(Time_24_HRS,':',1) >4 and SUBSTRING_INDEX(Time_24_HRS,':',1) <=8 THEN 'EARLY MORNING'\\\n",
    "WHEN SUBSTRING_INDEX(Time_24_HRS,':',1) >8 and SUBSTRING_INDEX(Time_24_HRS,':',1) <=12 THEN 'OFFICE HOURS'\\\n",
    "WHEN SUBSTRING_INDEX(Time_24_HRS,':',1) >12 and SUBSTRING_INDEX(Time_24_HRS,':',1) <=16 THEN 'AFTERNOON'\\\n",
    "WHEN SUBSTRING_INDEX(Time_24_HRS,':',1) >16 and SUBSTRING_INDEX(Time_24_HRS,':',1) <=20 THEN 'EVENING'\\\n",
    "WHEN SUBSTRING_INDEX(Time_24_HRS,':',1) >20 and SUBSTRING_INDEX(Time_24_HRS,':',1) <=23 THEN 'NIGHT'\\\n",
    "END as Time_bucket \\\n",
    "from (Select * from (SELECT Violation_Code,CASE WHEN SUBSTRING(Violation_Time,5,1) = 'A' THEN  concat(SUBSTRING(Violation_Time,1,2),':',SUBSTRING(Violation_Time,3,2)) \\\n",
    "WHEN SUBSTRING(Violation_Time,5,1) = 'P' THEN concat(CAST(CAST(SUBSTRING(Violation_Time,1,2) AS INT)+12 as CHAR(2)),':',SUBSTRING(Violation_Time,3,2)) \\\n",
    "ELSE SUBSTRING(Violation_Time,5,1) \\\n",
    "END as Time_24_HRS \\\n",
    "FROM dfTable) as Temp where SUBSTRING(Time_24_HRS,1,2)<=23) as dfTemp) \\\n",
    "group by Violation_Code,Time_bucket \\\n",
    "order by Frequency_ticket desc''')\n",
    "## ********* The Frequency of Violation Codes based on Time bucket  - get the object **********"
   ]
  },
  {
   "cell_type": "markdown",
   "metadata": {},
   "source": [
    "<b> We have successfully removed the time based on 24 hour format and now we are ready with the record to see which Viloation code has how much number of frequency ticket </b>"
   ]
  },
  {
   "cell_type": "code",
   "execution_count": 131,
   "metadata": {},
   "outputs": [],
   "source": [
    "## ******** Importing libraries **********\n",
    "import pandas as pd\n",
    "import matplotlib.pyplot as plt\n",
    "import seaborn as sns\n",
    "## ******** Importing libraries **********"
   ]
  },
  {
   "cell_type": "code",
   "execution_count": 132,
   "metadata": {},
   "outputs": [],
   "source": [
    "## ******** Convert the spark object to pandas dataframe **********\n",
    "df_pandas=dfObject.toPandas()\n",
    "## ******** Convert the spark object to pandas dataframe **********"
   ]
  },
  {
   "cell_type": "code",
   "execution_count": 133,
   "metadata": {},
   "outputs": [
    {
     "data": {
      "text/html": [
       "<div>\n",
       "<style scoped>\n",
       "    .dataframe tbody tr th:only-of-type {\n",
       "        vertical-align: middle;\n",
       "    }\n",
       "\n",
       "    .dataframe tbody tr th {\n",
       "        vertical-align: top;\n",
       "    }\n",
       "\n",
       "    .dataframe thead th {\n",
       "        text-align: right;\n",
       "    }\n",
       "</style>\n",
       "<table border=\"1\" class=\"dataframe\">\n",
       "  <thead>\n",
       "    <tr style=\"text-align: right;\">\n",
       "      <th></th>\n",
       "      <th>Violation_Code</th>\n",
       "      <th>Time_bucket</th>\n",
       "      <th>Frequency_ticket</th>\n",
       "    </tr>\n",
       "  </thead>\n",
       "  <tbody>\n",
       "    <tr>\n",
       "      <th>0</th>\n",
       "      <td>21</td>\n",
       "      <td>OFFICE HOURS</td>\n",
       "      <td>806290</td>\n",
       "    </tr>\n",
       "    <tr>\n",
       "      <th>1</th>\n",
       "      <td>36</td>\n",
       "      <td>OFFICE HOURS</td>\n",
       "      <td>614877</td>\n",
       "    </tr>\n",
       "    <tr>\n",
       "      <th>2</th>\n",
       "      <td>21</td>\n",
       "      <td>EARLY MORNING</td>\n",
       "      <td>498338</td>\n",
       "    </tr>\n",
       "    <tr>\n",
       "      <th>3</th>\n",
       "      <td>38</td>\n",
       "      <td>AFTERNOON</td>\n",
       "      <td>453644</td>\n",
       "    </tr>\n",
       "  </tbody>\n",
       "</table>\n",
       "</div>"
      ],
      "text/plain": [
       "   Violation_Code    Time_bucket  Frequency_ticket\n",
       "0              21   OFFICE HOURS            806290\n",
       "1              36   OFFICE HOURS            614877\n",
       "2              21  EARLY MORNING            498338\n",
       "3              38      AFTERNOON            453644"
      ]
     },
     "execution_count": 133,
     "metadata": {},
     "output_type": "execute_result"
    }
   ],
   "source": [
    "df_pandas.head(4)"
   ]
  },
  {
   "cell_type": "code",
   "execution_count": 134,
   "metadata": {},
   "outputs": [
    {
     "data": {
      "text/plain": [
       "<matplotlib.axes._subplots.AxesSubplot at 0x7f42e961eb38>"
      ]
     },
     "execution_count": 134,
     "metadata": {},
     "output_type": "execute_result"
    },
    {
     "data": {
      "image/png": "[encoded data removed]",
      "text/plain": [
       "<Figure size 1440x720 with 1 Axes>"
      ]
     },
     "metadata": {},
     "output_type": "display_data"
    }
   ],
   "source": [
    "## ********* Plot the three most commonly occurring violation codes, find the most common time of the day *************\n",
    "plt.figure(figsize=(20,10))\n",
    "sns.set_context(\"talk\")\n",
    "sns.set_style(\"darkgrid\")\n",
    "sns.barplot(x=\"Violation_Code\",y=\"Frequency_ticket\",hue='Time_bucket',data=df_pandas.head(4))\n",
    "## ********* Plot the three most commonly occurring violation codes, find the most common time of the day *************"
   ]
  },
  {
   "cell_type": "markdown",
   "metadata": {},
   "source": [
    "<b>Comments:</b><br>\n",
    "<ul>\n",
    "    <li><mark> Most of the Violations are (First 3 - parts of the day)</mark> <br>\n",
    "        <ul><li>Office Hours</li><li>Early Morning</li><li>Afternoon</li></ul>\n",
    "    <li> <mark>Most of the Violations are (First 3 - Violation codes)</mark> <br>\n",
    "        <ul><li>21</li><li>36</li><li>38</li></ul>\n",
    "</ul>"
   ]
  },
  {
   "cell_type": "markdown",
   "metadata": {},
   "source": [
    "<center> <b> ++++++++++ Answer 5 | End ++++++++++</b>  </center>"
   ]
  },
  {
   "cell_type": "markdown",
   "metadata": {},
   "source": [
    "<center> <b> ++++++++++ Answer 6 | Start ++++++++++</b>  </center>"
   ]
  },
  {
   "cell_type": "markdown",
   "metadata": {},
   "source": [
    "<b> Question 6: Let’s try and find some seasonality in this data:\n",
    "</b>\n",
    "\n",
    "<ul>\n",
    "        <li>First, divide the year into a certain number of seasons, and find the frequencies of tickets for each season. (Hint: Use Issue Date to segregate into seasons.)</li>\n",
    "    <li>Then, find the three most common violations for each of these seasons.</li>\n",
    "</ul>\n",
    "<br>"
   ]
  },
  {
   "cell_type": "code",
   "execution_count": 135,
   "metadata": {},
   "outputs": [
    {
     "name": "stdout",
     "output_type": "stream",
     "text": [
      "+-------------------+\n",
      "|         Issue_Date|\n",
      "+-------------------+\n",
      "|2016-07-10 00:00:00|\n",
      "|2016-07-08 00:00:00|\n",
      "|2016-08-23 00:00:00|\n",
      "|2017-06-14 00:00:00|\n",
      "|2016-11-21 00:00:00|\n",
      "|2017-06-13 00:00:00|\n",
      "|2016-08-03 00:00:00|\n",
      "|2016-12-21 00:00:00|\n",
      "|2016-11-21 00:00:00|\n",
      "|2016-10-05 00:00:00|\n",
      "|2017-01-11 00:00:00|\n",
      "|2016-09-27 00:00:00|\n",
      "|2016-10-27 00:00:00|\n",
      "|2016-09-30 00:00:00|\n",
      "|2017-02-04 00:00:00|\n",
      "|2016-07-07 00:00:00|\n",
      "|2016-09-24 00:00:00|\n",
      "|2017-01-26 00:00:00|\n",
      "|2017-04-30 00:00:00|\n",
      "|2017-02-03 00:00:00|\n",
      "+-------------------+\n",
      "only showing top 20 rows\n",
      "\n"
     ]
    }
   ],
   "source": [
    "## ******** Check the issue date *************\n",
    "nyc_taxi_updated.select('Issue_Date').show()\n",
    "## ******** Check the issue date *************"
   ]
  },
  {
   "cell_type": "code",
   "execution_count": 136,
   "metadata": {},
   "outputs": [
    {
     "name": "stdout",
     "output_type": "stream",
     "text": [
      "+-------+-------+\n",
      "|Seasons|    Cnt|\n",
      "+-------+-------+\n",
      "| Winter|5320252|\n",
      "| Summer|3018840|\n",
      "|  Rainy|2463936|\n",
      "+-------+-------+\n",
      "\n"
     ]
    }
   ],
   "source": [
    "## ********** Frequencies of tickets for each season ****************\n",
    "spark.sql('''select CASE \\\n",
    "WHEN CAST(SUBSTRING(SUBSTRING_INDEX(Issue_Date,' ',1),6,2) AS INT) >= 4  and CAST(SUBSTRING(SUBSTRING_INDEX(Issue_Date,' ',1),6,2) AS INT) <=6 THEN 'Summer' \\\n",
    "WHEN CAST(SUBSTRING(SUBSTRING_INDEX(Issue_Date,' ',1),6,2) AS INT) >= 7  and CAST(SUBSTRING(SUBSTRING_INDEX(Issue_Date,' ',1),6,2) AS INT) <=9 THEN 'Rainy' \\\n",
    "WHEN CAST(SUBSTRING(SUBSTRING_INDEX(Issue_Date,' ',1),6,2) AS INT) >= 10 and CAST(SUBSTRING(SUBSTRING_INDEX(Issue_Date,' ',1),6,2) AS INT) <=12 or (CAST(SUBSTRING(SUBSTRING_INDEX(Issue_Date,' ',1),6,2) AS INT) <=3) THEN 'Winter' \\\n",
    "ELSE 'NA'\n",
    "END as Seasons, count(*) as Cnt from dfTable \\\n",
    "group by Seasons \\\n",
    "order by Cnt DESC''').show()\n",
    "## ********** Frequencies of tickets for each season ****************"
   ]
  },
  {
   "cell_type": "code",
   "execution_count": 137,
   "metadata": {},
   "outputs": [
    {
     "data": {
      "text/plain": [
       "<matplotlib.axes._subplots.AxesSubplot at 0x7f42e8f5b4a8>"
      ]
     },
     "execution_count": 137,
     "metadata": {},
     "output_type": "execute_result"
    },
    {
     "data": {
      "image/png": "[encoded data removed]",
      "text/plain": [
       "<Figure size 1440x720 with 1 Axes>"
      ]
     },
     "metadata": {},
     "output_type": "display_data"
    }
   ],
   "source": [
    "## ********* Frequencies of tickets for each season - Charts *************\n",
    "freq_tckts=spark.sql('''select CASE \\\n",
    "WHEN CAST(SUBSTRING(SUBSTRING_INDEX(Issue_Date,' ',1),6,2) AS INT) >= 4  and CAST(SUBSTRING(SUBSTRING_INDEX(Issue_Date,' ',1),6,2) AS INT) <=6 THEN 'Summer' \\\n",
    "WHEN CAST(SUBSTRING(SUBSTRING_INDEX(Issue_Date,' ',1),6,2) AS INT) >= 7  and CAST(SUBSTRING(SUBSTRING_INDEX(Issue_Date,' ',1),6,2) AS INT) <=9 THEN 'Rainy' \\\n",
    "WHEN CAST(SUBSTRING(SUBSTRING_INDEX(Issue_Date,' ',1),6,2) AS INT) >= 10 and CAST(SUBSTRING(SUBSTRING_INDEX(Issue_Date,' ',1),6,2) AS INT) <=12 or (CAST(SUBSTRING(SUBSTRING_INDEX(Issue_Date,' ',1),6,2) AS INT) <=3) THEN 'Winter' \\\n",
    "ELSE 'NA'\n",
    "END as Seasons, count(*) as Cnt from dfTable \\\n",
    "group by Seasons \\\n",
    "order by Cnt DESC''')\n",
    "\n",
    "df_pandas=freq_tckts.toPandas()\n",
    "\n",
    "plt.figure(figsize=(20,10))\n",
    "plt.title('Frequencies of tickets for each season')\n",
    "sns.set_context(\"talk\")\n",
    "sns.set_style(\"darkgrid\")\n",
    "sns.barplot(x=\"Seasons\",y=\"Cnt\",data=df_pandas)\n",
    "## ********* Frequencies of tickets for each season - Charts *************"
   ]
  },
  {
   "cell_type": "markdown",
   "metadata": {},
   "source": [
    "<b> Comments: </b><br>\n",
    "<mark>Winter tops the chart followed by Summer and Rainy being the least</mark>"
   ]
  },
  {
   "cell_type": "code",
   "execution_count": 138,
   "metadata": {},
   "outputs": [
    {
     "name": "stdout",
     "output_type": "stream",
     "text": [
      "+--------------+-------+------+\n",
      "|Violation_Code|Seasons|   Cnt|\n",
      "+--------------+-------+------+\n",
      "|            36| Winter|790833|\n",
      "|            21| Winter|721630|\n",
      "|            38| Winter|550410|\n",
      "|            14| Winter|427780|\n",
      "|            21| Summer|421184|\n",
      "|            21|  Rainy|385774|\n",
      "|            36| Summer|369902|\n",
      "|            37| Winter|299506|\n",
      "|            20| Winter|295969|\n",
      "|            46| Winter|290224|\n",
      "+--------------+-------+------+\n",
      "only showing top 10 rows\n",
      "\n"
     ]
    }
   ],
   "source": [
    "## ********** Get the Count of violations by Seasons ****************\n",
    "spark.sql('''select Violation_Code,CASE \\\n",
    "WHEN CAST(SUBSTRING(SUBSTRING_INDEX(Issue_Date,' ',1),6,2) AS INT) >= 4  and CAST(SUBSTRING(SUBSTRING_INDEX(Issue_Date,' ',1),6,2) AS INT) <=6 THEN 'Summer' \\\n",
    "WHEN CAST(SUBSTRING(SUBSTRING_INDEX(Issue_Date,' ',1),6,2) AS INT) >= 7  and CAST(SUBSTRING(SUBSTRING_INDEX(Issue_Date,' ',1),6,2) AS INT) <=9 THEN 'Rainy' \\\n",
    "WHEN CAST(SUBSTRING(SUBSTRING_INDEX(Issue_Date,' ',1),6,2) AS INT) >= 10 and CAST(SUBSTRING(SUBSTRING_INDEX(Issue_Date,' ',1),6,2) AS INT) <=12 or (CAST(SUBSTRING(SUBSTRING_INDEX(Issue_Date,' ',1),6,2) AS INT) <=3) THEN 'Winter' \\\n",
    "ELSE 'NA'\n",
    "END as Seasons, count(*) as Cnt from dfTable \\\n",
    "group by Seasons,Violation_Code \\\n",
    "order by Cnt DESC''').show(10)\n",
    "## ********** Get the Count of violations by Seasons ****************"
   ]
  },
  {
   "cell_type": "code",
   "execution_count": 139,
   "metadata": {},
   "outputs": [
    {
     "data": {
      "text/plain": [
       "<matplotlib.axes._subplots.AxesSubplot at 0x7f42e9316278>"
      ]
     },
     "execution_count": 139,
     "metadata": {},
     "output_type": "execute_result"
    },
    {
     "data": {
      "image/png": "[encoded data removed]",
      "text/plain": [
       "<Figure size 1440x720 with 1 Axes>"
      ]
     },
     "metadata": {},
     "output_type": "display_data"
    }
   ],
   "source": [
    "## ********* Get the Count of violations by Seasons - Charts (first 10) *************\n",
    "freq_tckts=spark.sql('''select Violation_Code,CASE \\\n",
    "WHEN CAST(SUBSTRING(SUBSTRING_INDEX(Issue_Date,' ',1),6,2) AS INT) >= 4  and CAST(SUBSTRING(SUBSTRING_INDEX(Issue_Date,' ',1),6,2) AS INT) <=6 THEN 'Summer' \\\n",
    "WHEN CAST(SUBSTRING(SUBSTRING_INDEX(Issue_Date,' ',1),6,2) AS INT) >= 7  and CAST(SUBSTRING(SUBSTRING_INDEX(Issue_Date,' ',1),6,2) AS INT) <=9 THEN 'Rainy' \\\n",
    "WHEN CAST(SUBSTRING(SUBSTRING_INDEX(Issue_Date,' ',1),6,2) AS INT) >= 10 and CAST(SUBSTRING(SUBSTRING_INDEX(Issue_Date,' ',1),6,2) AS INT) <=12 or (CAST(SUBSTRING(SUBSTRING_INDEX(Issue_Date,' ',1),6,2) AS INT) <=3) THEN 'Winter' \\\n",
    "ELSE 'NA'\n",
    "END as Seasons, count(*) as Cnt from dfTable \\\n",
    "group by Seasons,Violation_Code \\\n",
    "order by Cnt DESC''')\n",
    "\n",
    "df_pandas=freq_tckts.toPandas()\n",
    "\n",
    "plt.figure(figsize=(20,10))\n",
    "plt.title('Count of violations by Seasons - Charts (first 10)')\n",
    "sns.set_context(\"talk\")\n",
    "sns.set_style(\"darkgrid\")\n",
    "sns.barplot(x=\"Violation_Code\",y=\"Cnt\",hue='Seasons',data=df_pandas.head(10))\n",
    "## ********* Get the Count of violations by Seasons - Charts (first 10)  *************"
   ]
  },
  {
   "cell_type": "markdown",
   "metadata": {},
   "source": [
    "<b> Comments: </b><br>\n",
    "<ul>\n",
    "    <li> Viloation Code - 36 tops the chart in Winter season </li>\n",
    "    <li> Viloation Code - 21 comes next with violations in all the seasons </li>\n",
    "</ul>"
   ]
  },
  {
   "cell_type": "code",
   "execution_count": 140,
   "metadata": {},
   "outputs": [
    {
     "name": "stdout",
     "output_type": "stream",
     "text": [
      "+--------------+-------+------+\n",
      "|Violation_Code|Seasons|   Cnt|\n",
      "+--------------+-------+------+\n",
      "|            36| Winter|790833|\n",
      "|            21| Winter|721630|\n",
      "|            38| Winter|550410|\n",
      "+--------------+-------+------+\n",
      "only showing top 3 rows\n",
      "\n"
     ]
    }
   ],
   "source": [
    "## ********** Get the Count of violations by Winter ****************\n",
    "spark.sql('''select * from (select Violation_Code,CASE \\\n",
    "WHEN CAST(SUBSTRING(SUBSTRING_INDEX(Issue_Date,' ',1),6,2) AS INT) >= 4  and CAST(SUBSTRING(SUBSTRING_INDEX(Issue_Date,' ',1),6,2) AS INT) <=6 THEN 'Summer' \\\n",
    "WHEN CAST(SUBSTRING(SUBSTRING_INDEX(Issue_Date,' ',1),6,2) AS INT) >= 7  and CAST(SUBSTRING(SUBSTRING_INDEX(Issue_Date,' ',1),6,2) AS INT) <=9 THEN 'Rainy' \\\n",
    "WHEN CAST(SUBSTRING(SUBSTRING_INDEX(Issue_Date,' ',1),6,2) AS INT) >= 10 and CAST(SUBSTRING(SUBSTRING_INDEX(Issue_Date,' ',1),6,2) AS INT) <=12 or (CAST(SUBSTRING(SUBSTRING_INDEX(Issue_Date,' ',1),6,2) AS INT) <=3) THEN 'Winter' \\\n",
    "ELSE 'NA'\n",
    "END as Seasons, count(*) as Cnt from dfTable \\\n",
    "group by Seasons,Violation_Code \\\n",
    "order by Cnt DESC) as temp \\\n",
    "where Seasons ='Winter' ''').show(3)\n",
    "## ********** Get the Count of violations by Winter ****************"
   ]
  },
  {
   "cell_type": "code",
   "execution_count": 141,
   "metadata": {},
   "outputs": [
    {
     "name": "stdout",
     "output_type": "stream",
     "text": [
      "+--------------+-------+------+\n",
      "|Violation_Code|Seasons|   Cnt|\n",
      "+--------------+-------+------+\n",
      "|            21| Summer|421184|\n",
      "|            36| Summer|369902|\n",
      "|            38| Summer|266909|\n",
      "+--------------+-------+------+\n",
      "only showing top 3 rows\n",
      "\n"
     ]
    }
   ],
   "source": [
    "## ********** Get the Count of violations by Summer ****************\n",
    "spark.sql('''select * from (select Violation_Code,CASE \\\n",
    "WHEN CAST(SUBSTRING(SUBSTRING_INDEX(Issue_Date,' ',1),6,2) AS INT) >= 4  and CAST(SUBSTRING(SUBSTRING_INDEX(Issue_Date,' ',1),6,2) AS INT) <=6 THEN 'Summer' \\\n",
    "WHEN CAST(SUBSTRING(SUBSTRING_INDEX(Issue_Date,' ',1),6,2) AS INT) >= 7  and CAST(SUBSTRING(SUBSTRING_INDEX(Issue_Date,' ',1),6,2) AS INT) <=9 THEN 'Rainy' \\\n",
    "WHEN CAST(SUBSTRING(SUBSTRING_INDEX(Issue_Date,' ',1),6,2) AS INT) >= 10 and CAST(SUBSTRING(SUBSTRING_INDEX(Issue_Date,' ',1),6,2) AS INT) <=12 or (CAST(SUBSTRING(SUBSTRING_INDEX(Issue_Date,' ',1),6,2) AS INT) <=3) THEN 'Winter' \\\n",
    "ELSE 'NA'\n",
    "END as Seasons, count(*) as Cnt from dfTable \\\n",
    "group by Seasons,Violation_Code \\\n",
    "order by Cnt DESC) as temp \\\n",
    "where Seasons ='Summer' ''').show(3)\n",
    "## ********** Get the Count of violations by Summer ****************"
   ]
  },
  {
   "cell_type": "code",
   "execution_count": 142,
   "metadata": {},
   "outputs": [
    {
     "name": "stdout",
     "output_type": "stream",
     "text": [
      "+--------------+-------+------+\n",
      "|Violation_Code|Seasons|   Cnt|\n",
      "+--------------+-------+------+\n",
      "|            21|  Rainy|385774|\n",
      "|            38|  Rainy|244985|\n",
      "|            36|  Rainy|239879|\n",
      "+--------------+-------+------+\n",
      "only showing top 3 rows\n",
      "\n"
     ]
    }
   ],
   "source": [
    "## ********** Get the Count of violations by Rainy ****************\n",
    "spark.sql('''select * from (select Violation_Code,CASE \\\n",
    "WHEN CAST(SUBSTRING(SUBSTRING_INDEX(Issue_Date,' ',1),6,2) AS INT) >= 4  and CAST(SUBSTRING(SUBSTRING_INDEX(Issue_Date,' ',1),6,2) AS INT) <=6 THEN 'Summer' \\\n",
    "WHEN CAST(SUBSTRING(SUBSTRING_INDEX(Issue_Date,' ',1),6,2) AS INT) >= 7  and CAST(SUBSTRING(SUBSTRING_INDEX(Issue_Date,' ',1),6,2) AS INT) <=9 THEN 'Rainy' \\\n",
    "WHEN CAST(SUBSTRING(SUBSTRING_INDEX(Issue_Date,' ',1),6,2) AS INT) >= 10 and CAST(SUBSTRING(SUBSTRING_INDEX(Issue_Date,' ',1),6,2) AS INT) <=12 or (CAST(SUBSTRING(SUBSTRING_INDEX(Issue_Date,' ',1),6,2) AS INT) <=3) THEN 'Winter' \\\n",
    "ELSE 'NA'\n",
    "END as Seasons, count(*) as Cnt from dfTable \\\n",
    "group by Seasons,Violation_Code \\\n",
    "order by Cnt DESC) as temp \\\n",
    "where Seasons ='Rainy' ''').show(3)\n",
    "## ********** Get the Count of violations by Rainy ****************"
   ]
  },
  {
   "cell_type": "markdown",
   "metadata": {},
   "source": [
    "<b> Comments: </b><br>\n",
    "<ul>\n",
    "    <li> \n",
    "        <b>Winter (most 3 violations)</b> <br>\n",
    "        <ul><li>36</li><li>21</li><li>38</li></ul>\n",
    "    </li>\n",
    "    <li> \n",
    "        <b>Summer (most 3 violations)</b> <br>\n",
    "        <ul><li>21</li><li>36</li><li>38</li></ul>\n",
    "    </li>\n",
    "    <li> \n",
    "        <b>Rainy (most 3 violations)</b> <br>\n",
    "        <ul><li>21</li><li>38</li><li>36</li></ul>\n",
    "    </li>\n",
    "</ul>\n",
    "<br> It is quite evident that the three violations codes are common accross the seasons, <b><mark>21,36 & 38</mark></b>"
   ]
  },
  {
   "cell_type": "markdown",
   "metadata": {},
   "source": [
    "<center> <b> ++++++++++ Answer 6 | End ++++++++++</b>  </center>"
   ]
  },
  {
   "cell_type": "markdown",
   "metadata": {},
   "source": [
    "<center> <b> ++++++++++ Answer 7 | Start ++++++++++</b>  </center>"
   ]
  },
  {
   "cell_type": "markdown",
   "metadata": {},
   "source": [
    "<b> Question: The fines collected from all the instances of parking violation constitute a source of revenue for the NYC Police Department. Let’s take an example of estimating this for the three most commonly occurring codes:</b><br>\n",
    "<ul>\n",
    "    <li>Find the total occurrences of the three most common violation codes.\n",
    "        <li>Then, visit the website:\n",
    "http://www1.nyc.gov/site/finance/vehicles/services-violation-codes.page\n",
    "It lists the fines associated with different violation codes. They’re divided into two categories: one for the highest-density locations in the city and the other for the rest of the city. For the sake of simplicity, take the average of the two.\n",
    "            <li>\n",
    "Using this information, find the total amount collected for the three violation codes with the maximum tickets. State the code that has the highest total collection.<li>\n",
    "What can you intuitively infer from these findings?"
   ]
  },
  {
   "cell_type": "code",
   "execution_count": 143,
   "metadata": {},
   "outputs": [
    {
     "name": "stdout",
     "output_type": "stream",
     "text": [
      "+--------------+--------------------+\n",
      "|Violation_Code|Frequency_of_Tickets|\n",
      "+--------------+--------------------+\n",
      "|            21|             1528588|\n",
      "|            36|             1400614|\n",
      "|            38|             1062304|\n",
      "+--------------+--------------------+\n",
      "only showing top 3 rows\n",
      "\n"
     ]
    }
   ],
   "source": [
    "top_violation = spark.sql('select Violation_Code, count(*) as Frequency_of_Tickets from dfTable group by Violation_Code order by Frequency_of_Tickets desc')\n",
    "top_violation.show(3)"
   ]
  },
  {
   "cell_type": "code",
   "execution_count": 144,
   "metadata": {},
   "outputs": [
    {
     "name": "stdout",
     "output_type": "stream",
     "text": [
      "+----------------------------------------+\n",
      "|Total occurrences of 3 most common codes|\n",
      "+----------------------------------------+\n",
      "|                                 3991506|\n",
      "+----------------------------------------+\n",
      "\n"
     ]
    }
   ],
   "source": [
    "from pyspark.sql.functions import sum\n",
    "top_violation.where('Violation_Code in (21,36,38)').select(sum('Frequency_of_Tickets').alias(\"Total occurrences of 3 most common codes\")).show()"
   ]
  },
  {
   "cell_type": "code",
   "execution_count": 145,
   "metadata": {},
   "outputs": [],
   "source": [
    "#Based on the above results:\n",
    "#The top three most common violation codes are 21,36 and 38\n",
    "#Total 3991506 tickets has been issued for the top 3 violation codes."
   ]
  },
  {
   "cell_type": "markdown",
   "metadata": {},
   "source": [
    "Now, we visit the website:\n",
    "http://www1.nyc.gov/site/finance/vehicles/services-violation-codes.page\n",
    "It lists the fines associated with different violation codes. They’re divided into two categories: one for the highest-density locations in the city and the other for the rest of the city. For the sake of simplicity, we take the average of the two."
   ]
  },
  {
   "cell_type": "code",
   "execution_count": 146,
   "metadata": {},
   "outputs": [],
   "source": [
    "collection=spark.sql(\"select Violation_Code, count(*) as freq_tickets,\\\n",
    "          CASE WHEN Violation_Code like 21 THEN CAST((65+45)/2 as INTEGER)\\\n",
    "          WHEN Violation_Code like 36 THEN CAST((50+50)/2 as INTEGER)\\\n",
    "          WHEN Violation_Code like 38 THEN CAST((65+35)/2 as INTEGER)\\\n",
    "          END AS FINE\\\n",
    "        from dfTable where Violation_Code IN (21,36,38) \\\n",
    "        group by Violation_Code order by freq_tickets desc\")"
   ]
  },
  {
   "cell_type": "code",
   "execution_count": 147,
   "metadata": {},
   "outputs": [
    {
     "name": "stdout",
     "output_type": "stream",
     "text": [
      "+--------------+------------+----+\n",
      "|Violation_Code|freq_tickets|FINE|\n",
      "+--------------+------------+----+\n",
      "|            21|     1528588|  55|\n",
      "|            36|     1400614|  50|\n",
      "|            38|     1062304|  50|\n",
      "+--------------+------------+----+\n",
      "\n"
     ]
    }
   ],
   "source": [
    "collection.show()"
   ]
  },
  {
   "cell_type": "code",
   "execution_count": 148,
   "metadata": {},
   "outputs": [],
   "source": [
    "collection.createOrReplaceTempView(\"dfTable\")"
   ]
  },
  {
   "cell_type": "code",
   "execution_count": 149,
   "metadata": {},
   "outputs": [
    {
     "name": "stdout",
     "output_type": "stream",
     "text": [
      "+--------------+------------+----+----------------+\n",
      "|Violation_Code|freq_tickets|FINE|total_collection|\n",
      "+--------------+------------+----+----------------+\n",
      "|            21|     1528588|  55|        84072340|\n",
      "|            36|     1400614|  50|        70030700|\n",
      "|            38|     1062304|  50|        53115200|\n",
      "+--------------+------------+----+----------------+\n",
      "\n"
     ]
    }
   ],
   "source": [
    "# Find the total amount collected for the three violation codes with the maximum tickets\n",
    "spark.sql(\"select Violation_Code,freq_tickets,FINE,freq_tickets*FINE as total_collection from dfTable\").show()"
   ]
  },
  {
   "cell_type": "markdown",
   "metadata": {},
   "source": [
    "Based on the above results:\n",
    "The total amount collected for the three violation codes with the maximum tickets is as below:\n",
    "<ul>\n",
    "    <li>\n",
    "        21 - 84072340\n",
    "        <li>\n",
    "            36 - 70030700\n",
    "            <li>\n",
    "                38 - 53115200\n",
    "                \n",
    "\n",
    "\n",
    "Hence, Code that has the highest total collection is <b>21"
   ]
  },
  {
   "cell_type": "markdown",
   "metadata": {},
   "source": [
    "<B>Inference from these findings-"
   ]
  },
  {
   "cell_type": "markdown",
   "metadata": {},
   "source": [
    "From these findings, we can infer the below - \n",
    "<li> The most violations are due to are violation code 21 - Street Cleaning: No parking where parking is not allowed by sign, street marking or traffic control device.\n",
    "<li> This is followed by violation code 36 - Exceeding the posted speed limit in or near a designated school zone.\n",
    "<li> Violation code 38 is followed next - Failing to show a receipt or tag in the windshield.\n",
    "Drivers get a 5-minute grace period past the expired time on parking meter receipts.\n",
    "<li> Total amount collected from the violation codes with max tickets is ~207M"
   ]
  },
  {
   "cell_type": "markdown",
   "metadata": {},
   "source": [
    "<center> <b> ++++++++++ Answer 7 | End ++++++++++</b>  </center>"
   ]
  },
  {
   "cell_type": "code",
   "execution_count": 150,
   "metadata": {},
   "outputs": [],
   "source": [
    "spark.stop() #We should always stop Spark whenever we finish working on the cluster."
   ]
  },
  {
   "cell_type": "code",
   "execution_count": null,
   "metadata": {},
   "outputs": [],
   "source": []
  }
 ],
 "metadata": {
  "celltoolbar": "Raw Cell Format",
  "kernelspec": {
   "display_name": "PySpark",
   "language": "python",
   "name": "pyspark"
  },
  "language_info": {
   "codemirror_mode": {
    "name": "ipython",
    "version": 3
   },
   "file_extension": ".py",
   "mimetype": "text/x-python",
   "name": "python",
   "nbconvert_exporter": "python",
   "pygments_lexer": "ipython3",
   "version": "3.6.5"
  }
 },
 "nbformat": 4,
 "nbformat_minor": 2
}
